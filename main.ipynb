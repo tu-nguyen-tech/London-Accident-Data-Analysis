{
 "cells": [
  {
   "cell_type": "code",
   "execution_count": 56,
   "metadata": {},
   "outputs": [],
   "source": [
    "import pandas as pd\n",
    "import seaborn as sns\n",
    "import matplotlib.pyplot as plt\n",
    "import requests"
   ]
  },
  {
   "cell_type": "code",
   "execution_count": 57,
   "metadata": {},
   "outputs": [
    {
     "name": "stdout",
     "output_type": "stream",
     "text": [
      "Successful request.\n"
     ]
    }
   ],
   "source": [
    "request_prefix = \"https://api.tfl.gov.uk\"\n",
    "request_url = request_prefix + \"/AccidentStats/2018\"\n",
    "resp = requests.get(request_url)\n",
    "\n",
    "if not resp.ok:\n",
    "    raise ConnectionError(\"Bad response. Terminating...\")\n",
    "\n",
    "print(\"Successful request.\")"
   ]
  },
  {
   "cell_type": "code",
   "execution_count": 58,
   "metadata": {},
   "outputs": [
    {
     "data": {
      "text/html": [
       "<div>\n",
       "<style scoped>\n",
       "    .dataframe tbody tr th:only-of-type {\n",
       "        vertical-align: middle;\n",
       "    }\n",
       "\n",
       "    .dataframe tbody tr th {\n",
       "        vertical-align: top;\n",
       "    }\n",
       "\n",
       "    .dataframe thead th {\n",
       "        text-align: right;\n",
       "    }\n",
       "</style>\n",
       "<table border=\"1\" class=\"dataframe\">\n",
       "  <thead>\n",
       "    <tr style=\"text-align: right;\">\n",
       "      <th></th>\n",
       "      <th>borough</th>\n",
       "      <th>casualties</th>\n",
       "      <th>date</th>\n",
       "      <th>id</th>\n",
       "      <th>lat</th>\n",
       "      <th>location</th>\n",
       "      <th>lon</th>\n",
       "      <th>severity</th>\n",
       "      <th>vehicles</th>\n",
       "    </tr>\n",
       "  </thead>\n",
       "  <tbody>\n",
       "    <tr>\n",
       "      <th>0</th>\n",
       "      <td>City of Westminster</td>\n",
       "      <td>[{'$type': 'Tfl.Api.Presentation.Entities.Acci...</td>\n",
       "      <td>2018-03-07T08:25:00Z</td>\n",
       "      <td>320725</td>\n",
       "      <td>51.539269</td>\n",
       "      <td>Finchley Road 25 metres south of junction with...</td>\n",
       "      <td>-0.175777</td>\n",
       "      <td>Slight</td>\n",
       "      <td>[{'$type': 'Tfl.Api.Presentation.Entities.Acci...</td>\n",
       "    </tr>\n",
       "    <tr>\n",
       "      <th>1</th>\n",
       "      <td>City of Westminster</td>\n",
       "      <td>[{'$type': 'Tfl.Api.Presentation.Entities.Acci...</td>\n",
       "      <td>2018-03-07T08:17:00Z</td>\n",
       "      <td>320726</td>\n",
       "      <td>51.501083</td>\n",
       "      <td>Parliament Street junction with Great George S...</td>\n",
       "      <td>-0.126441</td>\n",
       "      <td>Slight</td>\n",
       "      <td>[{'$type': 'Tfl.Api.Presentation.Entities.Acci...</td>\n",
       "    </tr>\n",
       "    <tr>\n",
       "      <th>2</th>\n",
       "      <td>City of Westminster</td>\n",
       "      <td>[{'$type': 'Tfl.Api.Presentation.Entities.Acci...</td>\n",
       "      <td>2018-03-06T09:55:00Z</td>\n",
       "      <td>320727</td>\n",
       "      <td>51.526162</td>\n",
       "      <td>Saint John's Wood Road junction with northwick...</td>\n",
       "      <td>-0.177166</td>\n",
       "      <td>Serious</td>\n",
       "      <td>[{'$type': 'Tfl.Api.Presentation.Entities.Acci...</td>\n",
       "    </tr>\n",
       "    <tr>\n",
       "      <th>3</th>\n",
       "      <td>City of Westminster</td>\n",
       "      <td>[{'$type': 'Tfl.Api.Presentation.Entities.Acci...</td>\n",
       "      <td>2018-03-07T20:15:00Z</td>\n",
       "      <td>320728</td>\n",
       "      <td>51.509212</td>\n",
       "      <td>Jermyn Street junction with Regent Street St J...</td>\n",
       "      <td>-0.134322</td>\n",
       "      <td>Slight</td>\n",
       "      <td>[{'$type': 'Tfl.Api.Presentation.Entities.Acci...</td>\n",
       "    </tr>\n",
       "    <tr>\n",
       "      <th>4</th>\n",
       "      <td>City of Westminster</td>\n",
       "      <td>[{'$type': 'Tfl.Api.Presentation.Entities.Acci...</td>\n",
       "      <td>2018-03-08T03:20:00Z</td>\n",
       "      <td>320729</td>\n",
       "      <td>51.523338</td>\n",
       "      <td>Edgware Road junction with Framton Street</td>\n",
       "      <td>-0.174828</td>\n",
       "      <td>Slight</td>\n",
       "      <td>[{'$type': 'Tfl.Api.Presentation.Entities.Acci...</td>\n",
       "    </tr>\n",
       "  </tbody>\n",
       "</table>\n",
       "</div>"
      ],
      "text/plain": [
       "               borough                                         casualties  \\\n",
       "0  City of Westminster  [{'$type': 'Tfl.Api.Presentation.Entities.Acci...   \n",
       "1  City of Westminster  [{'$type': 'Tfl.Api.Presentation.Entities.Acci...   \n",
       "2  City of Westminster  [{'$type': 'Tfl.Api.Presentation.Entities.Acci...   \n",
       "3  City of Westminster  [{'$type': 'Tfl.Api.Presentation.Entities.Acci...   \n",
       "4  City of Westminster  [{'$type': 'Tfl.Api.Presentation.Entities.Acci...   \n",
       "\n",
       "                   date      id        lat  \\\n",
       "0  2018-03-07T08:25:00Z  320725  51.539269   \n",
       "1  2018-03-07T08:17:00Z  320726  51.501083   \n",
       "2  2018-03-06T09:55:00Z  320727  51.526162   \n",
       "3  2018-03-07T20:15:00Z  320728  51.509212   \n",
       "4  2018-03-08T03:20:00Z  320729  51.523338   \n",
       "\n",
       "                                            location       lon severity  \\\n",
       "0  Finchley Road 25 metres south of junction with... -0.175777   Slight   \n",
       "1  Parliament Street junction with Great George S... -0.126441   Slight   \n",
       "2  Saint John's Wood Road junction with northwick... -0.177166  Serious   \n",
       "3  Jermyn Street junction with Regent Street St J... -0.134322   Slight   \n",
       "4          Edgware Road junction with Framton Street -0.174828   Slight   \n",
       "\n",
       "                                            vehicles  \n",
       "0  [{'$type': 'Tfl.Api.Presentation.Entities.Acci...  \n",
       "1  [{'$type': 'Tfl.Api.Presentation.Entities.Acci...  \n",
       "2  [{'$type': 'Tfl.Api.Presentation.Entities.Acci...  \n",
       "3  [{'$type': 'Tfl.Api.Presentation.Entities.Acci...  \n",
       "4  [{'$type': 'Tfl.Api.Presentation.Entities.Acci...  "
      ]
     },
     "execution_count": 58,
     "metadata": {},
     "output_type": "execute_result"
    }
   ],
   "source": [
    "df = pd.DataFrame.from_dict(resp.json())\n",
    "df.drop('$type', axis=1, inplace=True)\n",
    "df.head()"
   ]
  },
  {
   "cell_type": "code",
   "execution_count": 59,
   "metadata": {},
   "outputs": [],
   "source": [
    "df_backup = df.copy() # no touching"
   ]
  },
  {
   "cell_type": "code",
   "execution_count": 60,
   "metadata": {},
   "outputs": [],
   "source": [
    "# to reset df:\n",
    "df = df_backup.copy()"
   ]
  },
  {
   "cell_type": "markdown",
   "metadata": {},
   "source": [
    "## Clean the vehicles column"
   ]
  },
  {
   "cell_type": "code",
   "execution_count": 61,
   "metadata": {},
   "outputs": [
    {
     "data": {
      "text/plain": [
       "[{'$type': 'Tfl.Api.Presentation.Entities.AccidentStats.Vehicle, Tfl.Api.Presentation.Entities',\n",
       "  'type': 'PedalCycle'},\n",
       " {'$type': 'Tfl.Api.Presentation.Entities.AccidentStats.Vehicle, Tfl.Api.Presentation.Entities',\n",
       "  'type': 'BusOrCoach'}]"
      ]
     },
     "execution_count": 61,
     "metadata": {},
     "output_type": "execute_result"
    }
   ],
   "source": [
    "vehicles_cell = df['vehicles'][0]\n",
    "vehicles_cell"
   ]
  },
  {
   "cell_type": "code",
   "execution_count": 62,
   "metadata": {},
   "outputs": [],
   "source": [
    "def get_vehicles(cell):\n",
    "    ls = []\n",
    "    for i in cell:\n",
    "        ls.append(i['type'])\n",
    "    return ls\n",
    "\n",
    "df['vehicles'] = df['vehicles'].apply(get_vehicles)"
   ]
  },
  {
   "cell_type": "code",
   "execution_count": 63,
   "metadata": {},
   "outputs": [
    {
     "data": {
      "text/html": [
       "<div>\n",
       "<style scoped>\n",
       "    .dataframe tbody tr th:only-of-type {\n",
       "        vertical-align: middle;\n",
       "    }\n",
       "\n",
       "    .dataframe tbody tr th {\n",
       "        vertical-align: top;\n",
       "    }\n",
       "\n",
       "    .dataframe thead th {\n",
       "        text-align: right;\n",
       "    }\n",
       "</style>\n",
       "<table border=\"1\" class=\"dataframe\">\n",
       "  <thead>\n",
       "    <tr style=\"text-align: right;\">\n",
       "      <th></th>\n",
       "      <th>borough</th>\n",
       "      <th>casualties</th>\n",
       "      <th>date</th>\n",
       "      <th>id</th>\n",
       "      <th>lat</th>\n",
       "      <th>location</th>\n",
       "      <th>lon</th>\n",
       "      <th>severity</th>\n",
       "      <th>vehicles</th>\n",
       "    </tr>\n",
       "  </thead>\n",
       "  <tbody>\n",
       "    <tr>\n",
       "      <th>0</th>\n",
       "      <td>City of Westminster</td>\n",
       "      <td>[{'$type': 'Tfl.Api.Presentation.Entities.Acci...</td>\n",
       "      <td>2018-03-07T08:25:00Z</td>\n",
       "      <td>320725</td>\n",
       "      <td>51.539269</td>\n",
       "      <td>Finchley Road 25 metres south of junction with...</td>\n",
       "      <td>-0.175777</td>\n",
       "      <td>Slight</td>\n",
       "      <td>[PedalCycle, BusOrCoach]</td>\n",
       "    </tr>\n",
       "    <tr>\n",
       "      <th>1</th>\n",
       "      <td>City of Westminster</td>\n",
       "      <td>[{'$type': 'Tfl.Api.Presentation.Entities.Acci...</td>\n",
       "      <td>2018-03-07T08:17:00Z</td>\n",
       "      <td>320726</td>\n",
       "      <td>51.501083</td>\n",
       "      <td>Parliament Street junction with Great George S...</td>\n",
       "      <td>-0.126441</td>\n",
       "      <td>Slight</td>\n",
       "      <td>[PedalCycle, LightGoodsVehicle]</td>\n",
       "    </tr>\n",
       "    <tr>\n",
       "      <th>2</th>\n",
       "      <td>City of Westminster</td>\n",
       "      <td>[{'$type': 'Tfl.Api.Presentation.Entities.Acci...</td>\n",
       "      <td>2018-03-06T09:55:00Z</td>\n",
       "      <td>320727</td>\n",
       "      <td>51.526162</td>\n",
       "      <td>Saint John's Wood Road junction with northwick...</td>\n",
       "      <td>-0.177166</td>\n",
       "      <td>Serious</td>\n",
       "      <td>[PedalCycle, Car]</td>\n",
       "    </tr>\n",
       "    <tr>\n",
       "      <th>3</th>\n",
       "      <td>City of Westminster</td>\n",
       "      <td>[{'$type': 'Tfl.Api.Presentation.Entities.Acci...</td>\n",
       "      <td>2018-03-07T20:15:00Z</td>\n",
       "      <td>320728</td>\n",
       "      <td>51.509212</td>\n",
       "      <td>Jermyn Street junction with Regent Street St J...</td>\n",
       "      <td>-0.134322</td>\n",
       "      <td>Slight</td>\n",
       "      <td>[Motorcycle_50_125cc, Car]</td>\n",
       "    </tr>\n",
       "    <tr>\n",
       "      <th>4</th>\n",
       "      <td>City of Westminster</td>\n",
       "      <td>[{'$type': 'Tfl.Api.Presentation.Entities.Acci...</td>\n",
       "      <td>2018-03-08T03:20:00Z</td>\n",
       "      <td>320729</td>\n",
       "      <td>51.523338</td>\n",
       "      <td>Edgware Road junction with Framton Street</td>\n",
       "      <td>-0.174828</td>\n",
       "      <td>Slight</td>\n",
       "      <td>[Car, Car]</td>\n",
       "    </tr>\n",
       "  </tbody>\n",
       "</table>\n",
       "</div>"
      ],
      "text/plain": [
       "               borough                                         casualties  \\\n",
       "0  City of Westminster  [{'$type': 'Tfl.Api.Presentation.Entities.Acci...   \n",
       "1  City of Westminster  [{'$type': 'Tfl.Api.Presentation.Entities.Acci...   \n",
       "2  City of Westminster  [{'$type': 'Tfl.Api.Presentation.Entities.Acci...   \n",
       "3  City of Westminster  [{'$type': 'Tfl.Api.Presentation.Entities.Acci...   \n",
       "4  City of Westminster  [{'$type': 'Tfl.Api.Presentation.Entities.Acci...   \n",
       "\n",
       "                   date      id        lat  \\\n",
       "0  2018-03-07T08:25:00Z  320725  51.539269   \n",
       "1  2018-03-07T08:17:00Z  320726  51.501083   \n",
       "2  2018-03-06T09:55:00Z  320727  51.526162   \n",
       "3  2018-03-07T20:15:00Z  320728  51.509212   \n",
       "4  2018-03-08T03:20:00Z  320729  51.523338   \n",
       "\n",
       "                                            location       lon severity  \\\n",
       "0  Finchley Road 25 metres south of junction with... -0.175777   Slight   \n",
       "1  Parliament Street junction with Great George S... -0.126441   Slight   \n",
       "2  Saint John's Wood Road junction with northwick... -0.177166  Serious   \n",
       "3  Jermyn Street junction with Regent Street St J... -0.134322   Slight   \n",
       "4          Edgware Road junction with Framton Street -0.174828   Slight   \n",
       "\n",
       "                          vehicles  \n",
       "0         [PedalCycle, BusOrCoach]  \n",
       "1  [PedalCycle, LightGoodsVehicle]  \n",
       "2                [PedalCycle, Car]  \n",
       "3       [Motorcycle_50_125cc, Car]  \n",
       "4                       [Car, Car]  "
      ]
     },
     "execution_count": 63,
     "metadata": {},
     "output_type": "execute_result"
    }
   ],
   "source": [
    "df.head(5)"
   ]
  },
  {
   "cell_type": "markdown",
   "metadata": {},
   "source": [
    "## Total number of accidents per area"
   ]
  },
  {
   "cell_type": "code",
   "execution_count": 64,
   "metadata": {},
   "outputs": [
    {
     "data": {
      "text/plain": [
       "City of Westminster       3020\n",
       "Lambeth                   2574\n",
       "Southwark                 2300\n",
       "Tower Hamlets             2260\n",
       "Barnet                    1986\n",
       "Wandsworth                1968\n",
       "Ealing                    1890\n",
       "Brent                     1862\n",
       "Camden                    1822\n",
       "Enfield                   1784\n",
       "Croydon                   1782\n",
       "Haringey                  1714\n",
       "Newham                    1712\n",
       "Hackney                   1710\n",
       "Lewisham                  1672\n",
       "Hounslow                  1572\n",
       "Islington                 1536\n",
       "Redbridge                 1514\n",
       "Bromley                   1474\n",
       "Hillingdon                1450\n",
       "Greenwich                 1430\n",
       "Waltham Forest            1424\n",
       "Hammersmith and Fulham    1414\n",
       "Kensington and Chelsea    1366\n",
       "Barking and Dagenham      1164\n",
       "Havering                  1148\n",
       "Merton                     994\n",
       "Bexley                     972\n",
       "Richmond upon Thames       888\n",
       "Harrow                     828\n",
       "Sutton                     814\n",
       "Kingston                   662\n",
       "City of London             568\n",
       "Name: borough, dtype: int64"
      ]
     },
     "execution_count": 64,
     "metadata": {},
     "output_type": "execute_result"
    }
   ],
   "source": [
    "df.borough.value_counts()"
   ]
  },
  {
   "cell_type": "markdown",
   "metadata": {},
   "source": [
    "## Top 5 areas with the most number of accidents"
   ]
  },
  {
   "cell_type": "code",
   "execution_count": 65,
   "metadata": {},
   "outputs": [
    {
     "data": {
      "text/plain": [
       "City of Westminster    3020\n",
       "Lambeth                2574\n",
       "Southwark              2300\n",
       "Tower Hamlets          2260\n",
       "Barnet                 1986\n",
       "Name: borough, dtype: int64"
      ]
     },
     "execution_count": 65,
     "metadata": {},
     "output_type": "execute_result"
    }
   ],
   "source": [
    "df.borough.value_counts().head()"
   ]
  },
  {
   "cell_type": "markdown",
   "metadata": {},
   "source": [
    "## Top 5 date with the most cases of accidents"
   ]
  },
  {
   "cell_type": "code",
   "execution_count": 66,
   "metadata": {},
   "outputs": [
    {
     "data": {
      "text/plain": [
       "2018-06-29    228\n",
       "2018-06-21    222\n",
       "2018-05-08    214\n",
       "2018-11-02    212\n",
       "2018-04-18    210\n",
       "Name: date, dtype: int64"
      ]
     },
     "execution_count": 66,
     "metadata": {},
     "output_type": "execute_result"
    }
   ],
   "source": [
    "import re\n",
    "date_pattern = re.compile(r'\\d{4}-\\d{2}-\\d{2}')\n",
    "\n",
    "def get_date(cell):\n",
    "    new_cell = date_pattern.match(cell)\n",
    "    return new_cell.group()\n",
    " \n",
    "df.date.apply(get_date).value_counts().head()"
   ]
  },
  {
   "cell_type": "markdown",
   "metadata": {},
   "source": [
    "## Most of the cases are slight"
   ]
  },
  {
   "cell_type": "code",
   "execution_count": 67,
   "metadata": {},
   "outputs": [
    {
     "data": {
      "text/plain": [
       "Slight     43400\n",
       "Serious     7656\n",
       "Fatal        218\n",
       "Name: severity, dtype: int64"
      ]
     },
     "execution_count": 67,
     "metadata": {},
     "output_type": "execute_result"
    }
   ],
   "source": [
    "df.severity.value_counts()"
   ]
  },
  {
   "cell_type": "markdown",
   "metadata": {},
   "source": [
    "## Top 5 vehicles involved in most accidents"
   ]
  },
  {
   "cell_type": "code",
   "execution_count": 68,
   "metadata": {},
   "outputs": [
    {
     "data": {
      "text/plain": [
       "[('Car', 53906),\n",
       " ('PedalCycle', 10032),\n",
       " ('Motorcycle_50_125cc', 6478),\n",
       " ('LightGoodsVehicle', 5514),\n",
       " ('Taxi', 4594)]"
      ]
     },
     "execution_count": 68,
     "metadata": {},
     "output_type": "execute_result"
    }
   ],
   "source": [
    "from collections import Counter\n",
    "vehicles_dict = Counter()\n",
    "\n",
    "def count_vehicles(cell):\n",
    "    for i in cell:\n",
    "        vehicles_dict[i] += 1\n",
    "           \n",
    "df.vehicles.apply(count_vehicles)\n",
    "top_five = vehicles_dict.most_common(5)\n",
    "top_five"
   ]
  },
  {
   "cell_type": "code",
   "execution_count": 69,
   "metadata": {},
   "outputs": [
    {
     "data": {
      "text/plain": [
       "91840"
      ]
     },
     "execution_count": 69,
     "metadata": {},
     "output_type": "execute_result"
    }
   ],
   "source": [
    "total_vehicles = sum(vehicles_dict.values())\n",
    "total_vehicles"
   ]
  },
  {
   "cell_type": "code",
   "execution_count": 70,
   "metadata": {},
   "outputs": [],
   "source": [
    "top_five_sum = 0\n",
    "for i in top_five:\n",
    "    top_five_sum += i[1]   \n",
    "top_five_sum\n",
    "others_sum = total_vehicles - top_five_sum"
   ]
  },
  {
   "cell_type": "code",
   "execution_count": 71,
   "metadata": {},
   "outputs": [],
   "source": [
    "top_five.append(('Others',others_sum))"
   ]
  },
  {
   "cell_type": "code",
   "execution_count": 72,
   "metadata": {},
   "outputs": [
    {
     "data": {
      "image/png": "[encoded data removed]",
      "text/plain": [
       "<Figure size 432x288 with 1 Axes>"
      ]
     },
     "metadata": {},
     "output_type": "display_data"
    }
   ],
   "source": [
    "vehicle_names, quantities = zip(*top_five)\n",
    "plt.pie(quantities, labels=vehicle_names, autopct='%1.1f%%')\n",
    "plt.title('Vehicles percentage')\n",
    "plt.axis('equal')\n",
    "plt.show()"
   ]
  },
  {
   "cell_type": "markdown",
   "metadata": {},
   "source": [
    "## Vehicles summarization"
   ]
  },
  {
   "cell_type": "code",
   "execution_count": 73,
   "metadata": {},
   "outputs": [
    {
     "data": {
      "text/plain": [
       "Counter({'PedalCycle': 10032,\n",
       "         'BusOrCoach': 3632,\n",
       "         'LightGoodsVehicle': 5514,\n",
       "         'Car': 53906,\n",
       "         'Motorcycle_50_125cc': 6478,\n",
       "         'Motorcycle_500cc_Plus': 2378,\n",
       "         'Taxi': 4594,\n",
       "         'Motorcycle_125_500cc': 1678,\n",
       "         'Motorcycle_0_50cc': 1110,\n",
       "         'MediumGoodsVehicle': 544,\n",
       "         'OtherMotorVehicle': 1066,\n",
       "         'HeavyGoodsVehicle': 684,\n",
       "         'AgriculturalVehicle': 30,\n",
       "         'Minibus': 188,\n",
       "         'RiddenHorse': 6})"
      ]
     },
     "execution_count": 73,
     "metadata": {},
     "output_type": "execute_result"
    }
   ],
   "source": [
    "vehicles_dict"
   ]
  },
  {
   "cell_type": "code",
   "execution_count": 74,
   "metadata": {},
   "outputs": [
    {
     "name": "stdout",
     "output_type": "stream",
     "text": [
      "Vehicle name                                       Total\n",
      "Car............................................... 53906\n",
      "PedalCycle........................................ 10032\n",
      "Motorcycle_50_125cc............................... 6478\n",
      "LightGoodsVehicle................................. 5514\n",
      "Taxi.............................................. 4594\n",
      "BusOrCoach........................................ 3632\n",
      "Motorcycle_500cc_Plus............................. 2378\n",
      "Motorcycle_125_500cc.............................. 1678\n",
      "Motorcycle_0_50cc................................. 1110\n",
      "OtherMotorVehicle................................. 1066\n",
      "HeavyGoodsVehicle................................. 684\n",
      "MediumGoodsVehicle................................ 544\n",
      "Minibus........................................... 188\n",
      "AgriculturalVehicle............................... 30\n",
      "RiddenHorse....................................... 6\n"
     ]
    }
   ],
   "source": [
    "print('Vehicle name'.ljust(50,\" \"),'Total')\n",
    "for _key, _value in vehicles_dict.most_common():\n",
    "    print(_key.ljust(50, \".\"), _value)"
   ]
  },
  {
   "cell_type": "markdown",
   "metadata": {},
   "source": [
    "## Number of accidents per area"
   ]
  },
  {
   "cell_type": "code",
   "execution_count": 75,
   "metadata": {},
   "outputs": [
    {
     "data": {
      "text/html": [
       "<div>\n",
       "<style scoped>\n",
       "    .dataframe tbody tr th:only-of-type {\n",
       "        vertical-align: middle;\n",
       "    }\n",
       "\n",
       "    .dataframe tbody tr th {\n",
       "        vertical-align: top;\n",
       "    }\n",
       "\n",
       "    .dataframe thead th {\n",
       "        text-align: right;\n",
       "    }\n",
       "</style>\n",
       "<table border=\"1\" class=\"dataframe\">\n",
       "  <thead>\n",
       "    <tr style=\"text-align: right;\">\n",
       "      <th></th>\n",
       "      <th></th>\n",
       "      <th>casualties</th>\n",
       "      <th>date</th>\n",
       "      <th>id</th>\n",
       "      <th>lat</th>\n",
       "      <th>location</th>\n",
       "      <th>lon</th>\n",
       "      <th>vehicles</th>\n",
       "    </tr>\n",
       "    <tr>\n",
       "      <th>borough</th>\n",
       "      <th>severity</th>\n",
       "      <th></th>\n",
       "      <th></th>\n",
       "      <th></th>\n",
       "      <th></th>\n",
       "      <th></th>\n",
       "      <th></th>\n",
       "      <th></th>\n",
       "    </tr>\n",
       "  </thead>\n",
       "  <tbody>\n",
       "    <tr>\n",
       "      <th rowspan=\"3\" valign=\"top\">Barking and Dagenham</th>\n",
       "      <th>Fatal</th>\n",
       "      <td>2</td>\n",
       "      <td>2</td>\n",
       "      <td>2</td>\n",
       "      <td>2</td>\n",
       "      <td>2</td>\n",
       "      <td>2</td>\n",
       "      <td>2</td>\n",
       "    </tr>\n",
       "    <tr>\n",
       "      <th>Serious</th>\n",
       "      <td>190</td>\n",
       "      <td>190</td>\n",
       "      <td>190</td>\n",
       "      <td>190</td>\n",
       "      <td>190</td>\n",
       "      <td>190</td>\n",
       "      <td>190</td>\n",
       "    </tr>\n",
       "    <tr>\n",
       "      <th>Slight</th>\n",
       "      <td>972</td>\n",
       "      <td>972</td>\n",
       "      <td>972</td>\n",
       "      <td>972</td>\n",
       "      <td>972</td>\n",
       "      <td>972</td>\n",
       "      <td>972</td>\n",
       "    </tr>\n",
       "    <tr>\n",
       "      <th rowspan=\"2\" valign=\"top\">Barnet</th>\n",
       "      <th>Fatal</th>\n",
       "      <td>8</td>\n",
       "      <td>8</td>\n",
       "      <td>8</td>\n",
       "      <td>8</td>\n",
       "      <td>8</td>\n",
       "      <td>8</td>\n",
       "      <td>8</td>\n",
       "    </tr>\n",
       "    <tr>\n",
       "      <th>Serious</th>\n",
       "      <td>252</td>\n",
       "      <td>252</td>\n",
       "      <td>252</td>\n",
       "      <td>252</td>\n",
       "      <td>252</td>\n",
       "      <td>252</td>\n",
       "      <td>252</td>\n",
       "    </tr>\n",
       "  </tbody>\n",
       "</table>\n",
       "</div>"
      ],
      "text/plain": [
       "                               casualties  date   id  lat  location  lon  \\\n",
       "borough              severity                                              \n",
       "Barking and Dagenham Fatal              2     2    2    2         2    2   \n",
       "                     Serious          190   190  190  190       190  190   \n",
       "                     Slight           972   972  972  972       972  972   \n",
       "Barnet               Fatal              8     8    8    8         8    8   \n",
       "                     Serious          252   252  252  252       252  252   \n",
       "\n",
       "                               vehicles  \n",
       "borough              severity            \n",
       "Barking and Dagenham Fatal            2  \n",
       "                     Serious        190  \n",
       "                     Slight         972  \n",
       "Barnet               Fatal            8  \n",
       "                     Serious        252  "
      ]
     },
     "execution_count": 75,
     "metadata": {},
     "output_type": "execute_result"
    }
   ],
   "source": [
    "area = df.groupby(['borough','severity'])\n",
    "area_count = area.count()\n",
    "area_count.head()"
   ]
  },
  {
   "cell_type": "code",
   "execution_count": 76,
   "metadata": {},
   "outputs": [
    {
     "data": {
      "text/html": [
       "<div>\n",
       "<style scoped>\n",
       "    .dataframe tbody tr th:only-of-type {\n",
       "        vertical-align: middle;\n",
       "    }\n",
       "\n",
       "    .dataframe tbody tr th {\n",
       "        vertical-align: top;\n",
       "    }\n",
       "\n",
       "    .dataframe thead th {\n",
       "        text-align: right;\n",
       "    }\n",
       "</style>\n",
       "<table border=\"1\" class=\"dataframe\">\n",
       "  <thead>\n",
       "    <tr style=\"text-align: right;\">\n",
       "      <th></th>\n",
       "      <th></th>\n",
       "      <th>casualties</th>\n",
       "    </tr>\n",
       "    <tr>\n",
       "      <th>borough</th>\n",
       "      <th>severity</th>\n",
       "      <th></th>\n",
       "    </tr>\n",
       "  </thead>\n",
       "  <tbody>\n",
       "    <tr>\n",
       "      <th rowspan=\"3\" valign=\"top\">Barking and Dagenham</th>\n",
       "      <th>Fatal</th>\n",
       "      <td>2</td>\n",
       "    </tr>\n",
       "    <tr>\n",
       "      <th>Serious</th>\n",
       "      <td>190</td>\n",
       "    </tr>\n",
       "    <tr>\n",
       "      <th>Slight</th>\n",
       "      <td>972</td>\n",
       "    </tr>\n",
       "    <tr>\n",
       "      <th rowspan=\"3\" valign=\"top\">Barnet</th>\n",
       "      <th>Fatal</th>\n",
       "      <td>8</td>\n",
       "    </tr>\n",
       "    <tr>\n",
       "      <th>Serious</th>\n",
       "      <td>252</td>\n",
       "    </tr>\n",
       "    <tr>\n",
       "      <th>Slight</th>\n",
       "      <td>1726</td>\n",
       "    </tr>\n",
       "    <tr>\n",
       "      <th rowspan=\"3\" valign=\"top\">Bexley</th>\n",
       "      <th>Fatal</th>\n",
       "      <td>6</td>\n",
       "    </tr>\n",
       "    <tr>\n",
       "      <th>Serious</th>\n",
       "      <td>148</td>\n",
       "    </tr>\n",
       "    <tr>\n",
       "      <th>Slight</th>\n",
       "      <td>818</td>\n",
       "    </tr>\n",
       "    <tr>\n",
       "      <th>Brent</th>\n",
       "      <th>Fatal</th>\n",
       "      <td>10</td>\n",
       "    </tr>\n",
       "  </tbody>\n",
       "</table>\n",
       "</div>"
      ],
      "text/plain": [
       "                               casualties\n",
       "borough              severity            \n",
       "Barking and Dagenham Fatal              2\n",
       "                     Serious          190\n",
       "                     Slight           972\n",
       "Barnet               Fatal              8\n",
       "                     Serious          252\n",
       "                     Slight          1726\n",
       "Bexley               Fatal              6\n",
       "                     Serious          148\n",
       "                     Slight           818\n",
       "Brent                Fatal             10"
      ]
     },
     "execution_count": 76,
     "metadata": {},
     "output_type": "execute_result"
    }
   ],
   "source": [
    "areas_to_accidents = area_count[['casualties']]\n",
    "#areas_to_accidents.loc['Barnet']\n",
    "areas_to_accidents.head(10)"
   ]
  },
  {
   "cell_type": "markdown",
   "metadata": {},
   "source": [
    "## Number of people in each severity in each area"
   ]
  },
  {
   "cell_type": "code",
   "execution_count": 77,
   "metadata": {},
   "outputs": [],
   "source": [
    "casualties_num = df['casualties'].apply(len)\n",
    "df['casualties_people_num'] = casualties_num"
   ]
  },
  {
   "cell_type": "code",
   "execution_count": 78,
   "metadata": {},
   "outputs": [],
   "source": [
    "casualties_people_num = df.groupby(['borough','severity'])['casualties_people_num'].sum()\n",
    "casualties_people_num_frame = casualties_people_num.to_frame()"
   ]
  },
  {
   "cell_type": "code",
   "execution_count": 79,
   "metadata": {},
   "outputs": [
    {
     "data": {
      "text/html": [
       "<div>\n",
       "<style scoped>\n",
       "    .dataframe tbody tr th:only-of-type {\n",
       "        vertical-align: middle;\n",
       "    }\n",
       "\n",
       "    .dataframe tbody tr th {\n",
       "        vertical-align: top;\n",
       "    }\n",
       "\n",
       "    .dataframe thead th {\n",
       "        text-align: right;\n",
       "    }\n",
       "</style>\n",
       "<table border=\"1\" class=\"dataframe\">\n",
       "  <thead>\n",
       "    <tr style=\"text-align: right;\">\n",
       "      <th></th>\n",
       "      <th></th>\n",
       "      <th>casualties_people_num</th>\n",
       "    </tr>\n",
       "    <tr>\n",
       "      <th>borough</th>\n",
       "      <th>severity</th>\n",
       "      <th></th>\n",
       "    </tr>\n",
       "  </thead>\n",
       "  <tbody>\n",
       "    <tr>\n",
       "      <th rowspan=\"3\" valign=\"top\">Barking and Dagenham</th>\n",
       "      <th>Fatal</th>\n",
       "      <td>4</td>\n",
       "    </tr>\n",
       "    <tr>\n",
       "      <th>Serious</th>\n",
       "      <td>244</td>\n",
       "    </tr>\n",
       "    <tr>\n",
       "      <th>Slight</th>\n",
       "      <td>1340</td>\n",
       "    </tr>\n",
       "    <tr>\n",
       "      <th rowspan=\"3\" valign=\"top\">Barnet</th>\n",
       "      <th>Fatal</th>\n",
       "      <td>10</td>\n",
       "    </tr>\n",
       "    <tr>\n",
       "      <th>Serious</th>\n",
       "      <td>300</td>\n",
       "    </tr>\n",
       "    <tr>\n",
       "      <th>Slight</th>\n",
       "      <td>2116</td>\n",
       "    </tr>\n",
       "    <tr>\n",
       "      <th rowspan=\"3\" valign=\"top\">Bexley</th>\n",
       "      <th>Fatal</th>\n",
       "      <td>6</td>\n",
       "    </tr>\n",
       "    <tr>\n",
       "      <th>Serious</th>\n",
       "      <td>202</td>\n",
       "    </tr>\n",
       "    <tr>\n",
       "      <th>Slight</th>\n",
       "      <td>1064</td>\n",
       "    </tr>\n",
       "    <tr>\n",
       "      <th>Brent</th>\n",
       "      <th>Fatal</th>\n",
       "      <td>12</td>\n",
       "    </tr>\n",
       "  </tbody>\n",
       "</table>\n",
       "</div>"
      ],
      "text/plain": [
       "                               casualties_people_num\n",
       "borough              severity                       \n",
       "Barking and Dagenham Fatal                         4\n",
       "                     Serious                     244\n",
       "                     Slight                     1340\n",
       "Barnet               Fatal                        10\n",
       "                     Serious                     300\n",
       "                     Slight                     2116\n",
       "Bexley               Fatal                         6\n",
       "                     Serious                     202\n",
       "                     Slight                     1064\n",
       "Brent                Fatal                        12"
      ]
     },
     "execution_count": 79,
     "metadata": {},
     "output_type": "execute_result"
    }
   ],
   "source": [
    "casualties_people_num_frame.head(10)"
   ]
  },
  {
   "cell_type": "code",
   "execution_count": 80,
   "metadata": {},
   "outputs": [
    {
     "data": {
      "text/html": [
       "<div>\n",
       "<style scoped>\n",
       "    .dataframe tbody tr th:only-of-type {\n",
       "        vertical-align: middle;\n",
       "    }\n",
       "\n",
       "    .dataframe tbody tr th {\n",
       "        vertical-align: top;\n",
       "    }\n",
       "\n",
       "    .dataframe thead th {\n",
       "        text-align: right;\n",
       "    }\n",
       "</style>\n",
       "<table border=\"1\" class=\"dataframe\">\n",
       "  <thead>\n",
       "    <tr style=\"text-align: right;\">\n",
       "      <th></th>\n",
       "      <th>casualties_people_num</th>\n",
       "    </tr>\n",
       "    <tr>\n",
       "      <th>severity</th>\n",
       "      <th></th>\n",
       "    </tr>\n",
       "  </thead>\n",
       "  <tbody>\n",
       "    <tr>\n",
       "      <th>Fatal</th>\n",
       "      <td>12</td>\n",
       "    </tr>\n",
       "    <tr>\n",
       "      <th>Serious</th>\n",
       "      <td>352</td>\n",
       "    </tr>\n",
       "    <tr>\n",
       "      <th>Slight</th>\n",
       "      <td>1846</td>\n",
       "    </tr>\n",
       "  </tbody>\n",
       "</table>\n",
       "</div>"
      ],
      "text/plain": [
       "          casualties_people_num\n",
       "severity                       \n",
       "Fatal                        12\n",
       "Serious                     352\n",
       "Slight                     1846"
      ]
     },
     "execution_count": 80,
     "metadata": {},
     "output_type": "execute_result"
    }
   ],
   "source": [
    "casualties_people_num_frame.loc['Brent']"
   ]
  },
  {
   "cell_type": "code",
   "execution_count": 81,
   "metadata": {},
   "outputs": [
    {
     "data": {
      "text/plain": [
       "casualties_people_num    352\n",
       "Name: Serious, dtype: int64"
      ]
     },
     "execution_count": 81,
     "metadata": {},
     "output_type": "execute_result"
    }
   ],
   "source": [
    "casualties_people_num_frame.loc['Brent'].loc['Serious']"
   ]
  },
  {
   "cell_type": "markdown",
   "metadata": {},
   "source": [
    "## Total number of injured&dead people in each area"
   ]
  },
  {
   "cell_type": "code",
   "execution_count": 82,
   "metadata": {},
   "outputs": [
    {
     "data": {
      "text/plain": [
       "borough\n",
       "Barking and Dagenham      1588\n",
       "Barnet                    2426\n",
       "Bexley                    1272\n",
       "Brent                     2210\n",
       "Bromley                   1788\n",
       "Camden                    2048\n",
       "City of London             626\n",
       "City of Westminster       3420\n",
       "Croydon                   2098\n",
       "Ealing                    2326\n",
       "Enfield                   2256\n",
       "Greenwich                 1774\n",
       "Hackney                   1970\n",
       "Hammersmith and Fulham    1576\n",
       "Haringey                  2036\n",
       "Harrow                    1020\n",
       "Havering                  1568\n",
       "Hillingdon                1836\n",
       "Hounslow                  1914\n",
       "Islington                 1704\n",
       "Kensington and Chelsea    1500\n",
       "Kingston                   778\n",
       "Lambeth                   2916\n",
       "Lewisham                  2022\n",
       "Merton                    1196\n",
       "Newham                    2172\n",
       "Redbridge                 1974\n",
       "Richmond upon Thames      1004\n",
       "Southwark                 2578\n",
       "Sutton                    1016\n",
       "Tower Hamlets             2668\n",
       "Waltham Forest            1686\n",
       "Wandsworth                2216\n",
       "Name: casualties_people_num, dtype: int64"
      ]
     },
     "execution_count": 82,
     "metadata": {},
     "output_type": "execute_result"
    }
   ],
   "source": [
    "casualties_people_num_frame.groupby('borough')['casualties_people_num'].sum()"
   ]
  },
  {
   "cell_type": "markdown",
   "metadata": {},
   "source": [
    "## Split the date for clearer info"
   ]
  },
  {
   "cell_type": "code",
   "execution_count": 83,
   "metadata": {},
   "outputs": [
    {
     "data": {
      "text/plain": [
       "'2018-03-07T08:25:00Z'"
      ]
     },
     "execution_count": 83,
     "metadata": {},
     "output_type": "execute_result"
    }
   ],
   "source": [
    "df.date[0]"
   ]
  },
  {
   "cell_type": "code",
   "execution_count": 84,
   "metadata": {},
   "outputs": [],
   "source": [
    "def split_date(cell):\n",
    "    return cell.split(sep='T')\n",
    "\n",
    "df['date'] = df.date.apply(split_date)"
   ]
  },
  {
   "cell_type": "code",
   "execution_count": 85,
   "metadata": {},
   "outputs": [
    {
     "data": {
      "text/html": [
       "<div>\n",
       "<style scoped>\n",
       "    .dataframe tbody tr th:only-of-type {\n",
       "        vertical-align: middle;\n",
       "    }\n",
       "\n",
       "    .dataframe tbody tr th {\n",
       "        vertical-align: top;\n",
       "    }\n",
       "\n",
       "    .dataframe thead th {\n",
       "        text-align: right;\n",
       "    }\n",
       "</style>\n",
       "<table border=\"1\" class=\"dataframe\">\n",
       "  <thead>\n",
       "    <tr style=\"text-align: right;\">\n",
       "      <th></th>\n",
       "      <th>borough</th>\n",
       "      <th>casualties</th>\n",
       "      <th>date</th>\n",
       "      <th>id</th>\n",
       "      <th>lat</th>\n",
       "      <th>location</th>\n",
       "      <th>lon</th>\n",
       "      <th>severity</th>\n",
       "      <th>vehicles</th>\n",
       "      <th>casualties_people_num</th>\n",
       "      <th>month_of_accident</th>\n",
       "    </tr>\n",
       "  </thead>\n",
       "  <tbody>\n",
       "    <tr>\n",
       "      <th>0</th>\n",
       "      <td>City of Westminster</td>\n",
       "      <td>[{'$type': 'Tfl.Api.Presentation.Entities.Acci...</td>\n",
       "      <td>[2018-03-07, 08:25:00Z]</td>\n",
       "      <td>320725</td>\n",
       "      <td>51.539269</td>\n",
       "      <td>Finchley Road 25 metres south of junction with...</td>\n",
       "      <td>-0.175777</td>\n",
       "      <td>Slight</td>\n",
       "      <td>[PedalCycle, BusOrCoach]</td>\n",
       "      <td>1</td>\n",
       "      <td>2018-03-07</td>\n",
       "    </tr>\n",
       "    <tr>\n",
       "      <th>1</th>\n",
       "      <td>City of Westminster</td>\n",
       "      <td>[{'$type': 'Tfl.Api.Presentation.Entities.Acci...</td>\n",
       "      <td>[2018-03-07, 08:17:00Z]</td>\n",
       "      <td>320726</td>\n",
       "      <td>51.501083</td>\n",
       "      <td>Parliament Street junction with Great George S...</td>\n",
       "      <td>-0.126441</td>\n",
       "      <td>Slight</td>\n",
       "      <td>[PedalCycle, LightGoodsVehicle]</td>\n",
       "      <td>1</td>\n",
       "      <td>2018-03-07</td>\n",
       "    </tr>\n",
       "    <tr>\n",
       "      <th>2</th>\n",
       "      <td>City of Westminster</td>\n",
       "      <td>[{'$type': 'Tfl.Api.Presentation.Entities.Acci...</td>\n",
       "      <td>[2018-03-06, 09:55:00Z]</td>\n",
       "      <td>320727</td>\n",
       "      <td>51.526162</td>\n",
       "      <td>Saint John's Wood Road junction with northwick...</td>\n",
       "      <td>-0.177166</td>\n",
       "      <td>Serious</td>\n",
       "      <td>[PedalCycle, Car]</td>\n",
       "      <td>1</td>\n",
       "      <td>2018-03-06</td>\n",
       "    </tr>\n",
       "    <tr>\n",
       "      <th>3</th>\n",
       "      <td>City of Westminster</td>\n",
       "      <td>[{'$type': 'Tfl.Api.Presentation.Entities.Acci...</td>\n",
       "      <td>[2018-03-07, 20:15:00Z]</td>\n",
       "      <td>320728</td>\n",
       "      <td>51.509212</td>\n",
       "      <td>Jermyn Street junction with Regent Street St J...</td>\n",
       "      <td>-0.134322</td>\n",
       "      <td>Slight</td>\n",
       "      <td>[Motorcycle_50_125cc, Car]</td>\n",
       "      <td>1</td>\n",
       "      <td>2018-03-07</td>\n",
       "    </tr>\n",
       "    <tr>\n",
       "      <th>4</th>\n",
       "      <td>City of Westminster</td>\n",
       "      <td>[{'$type': 'Tfl.Api.Presentation.Entities.Acci...</td>\n",
       "      <td>[2018-03-08, 03:20:00Z]</td>\n",
       "      <td>320729</td>\n",
       "      <td>51.523338</td>\n",
       "      <td>Edgware Road junction with Framton Street</td>\n",
       "      <td>-0.174828</td>\n",
       "      <td>Slight</td>\n",
       "      <td>[Car, Car]</td>\n",
       "      <td>1</td>\n",
       "      <td>2018-03-08</td>\n",
       "    </tr>\n",
       "  </tbody>\n",
       "</table>\n",
       "</div>"
      ],
      "text/plain": [
       "               borough                                         casualties  \\\n",
       "0  City of Westminster  [{'$type': 'Tfl.Api.Presentation.Entities.Acci...   \n",
       "1  City of Westminster  [{'$type': 'Tfl.Api.Presentation.Entities.Acci...   \n",
       "2  City of Westminster  [{'$type': 'Tfl.Api.Presentation.Entities.Acci...   \n",
       "3  City of Westminster  [{'$type': 'Tfl.Api.Presentation.Entities.Acci...   \n",
       "4  City of Westminster  [{'$type': 'Tfl.Api.Presentation.Entities.Acci...   \n",
       "\n",
       "                      date      id        lat  \\\n",
       "0  [2018-03-07, 08:25:00Z]  320725  51.539269   \n",
       "1  [2018-03-07, 08:17:00Z]  320726  51.501083   \n",
       "2  [2018-03-06, 09:55:00Z]  320727  51.526162   \n",
       "3  [2018-03-07, 20:15:00Z]  320728  51.509212   \n",
       "4  [2018-03-08, 03:20:00Z]  320729  51.523338   \n",
       "\n",
       "                                            location       lon severity  \\\n",
       "0  Finchley Road 25 metres south of junction with... -0.175777   Slight   \n",
       "1  Parliament Street junction with Great George S... -0.126441   Slight   \n",
       "2  Saint John's Wood Road junction with northwick... -0.177166  Serious   \n",
       "3  Jermyn Street junction with Regent Street St J... -0.134322   Slight   \n",
       "4          Edgware Road junction with Framton Street -0.174828   Slight   \n",
       "\n",
       "                          vehicles  casualties_people_num month_of_accident  \n",
       "0         [PedalCycle, BusOrCoach]                      1        2018-03-07  \n",
       "1  [PedalCycle, LightGoodsVehicle]                      1        2018-03-07  \n",
       "2                [PedalCycle, Car]                      1        2018-03-06  \n",
       "3       [Motorcycle_50_125cc, Car]                      1        2018-03-07  \n",
       "4                       [Car, Car]                      1        2018-03-08  "
      ]
     },
     "execution_count": 85,
     "metadata": {},
     "output_type": "execute_result"
    }
   ],
   "source": [
    "def get_date(cell):\n",
    "    return cell[0]\n",
    "df['month_of_accident'] = df['date'].apply(get_date)\n",
    "df.head()"
   ]
  },
  {
   "cell_type": "markdown",
   "metadata": {},
   "source": [
    "## Number of accidents per month in each area"
   ]
  },
  {
   "cell_type": "code",
   "execution_count": 86,
   "metadata": {},
   "outputs": [],
   "source": [
    "from datetime import datetime\n",
    "df['month_of_accident'] = pd.to_datetime(df['month_of_accident'])"
   ]
  },
  {
   "cell_type": "code",
   "execution_count": 87,
   "metadata": {},
   "outputs": [],
   "source": [
    "df.month_of_accident = df.month_of_accident.dt.month"
   ]
  },
  {
   "cell_type": "code",
   "execution_count": 88,
   "metadata": {},
   "outputs": [
    {
     "data": {
      "text/html": [
       "<div>\n",
       "<style scoped>\n",
       "    .dataframe tbody tr th:only-of-type {\n",
       "        vertical-align: middle;\n",
       "    }\n",
       "\n",
       "    .dataframe tbody tr th {\n",
       "        vertical-align: top;\n",
       "    }\n",
       "\n",
       "    .dataframe thead th {\n",
       "        text-align: right;\n",
       "    }\n",
       "</style>\n",
       "<table border=\"1\" class=\"dataframe\">\n",
       "  <thead>\n",
       "    <tr style=\"text-align: right;\">\n",
       "      <th></th>\n",
       "      <th>borough</th>\n",
       "      <th>casualties</th>\n",
       "      <th>date</th>\n",
       "      <th>id</th>\n",
       "      <th>lat</th>\n",
       "      <th>location</th>\n",
       "      <th>lon</th>\n",
       "      <th>severity</th>\n",
       "      <th>vehicles</th>\n",
       "      <th>casualties_people_num</th>\n",
       "      <th>month_of_accident</th>\n",
       "    </tr>\n",
       "  </thead>\n",
       "  <tbody>\n",
       "    <tr>\n",
       "      <th>0</th>\n",
       "      <td>City of Westminster</td>\n",
       "      <td>[{'$type': 'Tfl.Api.Presentation.Entities.Acci...</td>\n",
       "      <td>[2018-03-07, 08:25:00Z]</td>\n",
       "      <td>320725</td>\n",
       "      <td>51.539269</td>\n",
       "      <td>Finchley Road 25 metres south of junction with...</td>\n",
       "      <td>-0.175777</td>\n",
       "      <td>Slight</td>\n",
       "      <td>[PedalCycle, BusOrCoach]</td>\n",
       "      <td>1</td>\n",
       "      <td>3</td>\n",
       "    </tr>\n",
       "    <tr>\n",
       "      <th>1</th>\n",
       "      <td>City of Westminster</td>\n",
       "      <td>[{'$type': 'Tfl.Api.Presentation.Entities.Acci...</td>\n",
       "      <td>[2018-03-07, 08:17:00Z]</td>\n",
       "      <td>320726</td>\n",
       "      <td>51.501083</td>\n",
       "      <td>Parliament Street junction with Great George S...</td>\n",
       "      <td>-0.126441</td>\n",
       "      <td>Slight</td>\n",
       "      <td>[PedalCycle, LightGoodsVehicle]</td>\n",
       "      <td>1</td>\n",
       "      <td>3</td>\n",
       "    </tr>\n",
       "    <tr>\n",
       "      <th>2</th>\n",
       "      <td>City of Westminster</td>\n",
       "      <td>[{'$type': 'Tfl.Api.Presentation.Entities.Acci...</td>\n",
       "      <td>[2018-03-06, 09:55:00Z]</td>\n",
       "      <td>320727</td>\n",
       "      <td>51.526162</td>\n",
       "      <td>Saint John's Wood Road junction with northwick...</td>\n",
       "      <td>-0.177166</td>\n",
       "      <td>Serious</td>\n",
       "      <td>[PedalCycle, Car]</td>\n",
       "      <td>1</td>\n",
       "      <td>3</td>\n",
       "    </tr>\n",
       "    <tr>\n",
       "      <th>3</th>\n",
       "      <td>City of Westminster</td>\n",
       "      <td>[{'$type': 'Tfl.Api.Presentation.Entities.Acci...</td>\n",
       "      <td>[2018-03-07, 20:15:00Z]</td>\n",
       "      <td>320728</td>\n",
       "      <td>51.509212</td>\n",
       "      <td>Jermyn Street junction with Regent Street St J...</td>\n",
       "      <td>-0.134322</td>\n",
       "      <td>Slight</td>\n",
       "      <td>[Motorcycle_50_125cc, Car]</td>\n",
       "      <td>1</td>\n",
       "      <td>3</td>\n",
       "    </tr>\n",
       "    <tr>\n",
       "      <th>4</th>\n",
       "      <td>City of Westminster</td>\n",
       "      <td>[{'$type': 'Tfl.Api.Presentation.Entities.Acci...</td>\n",
       "      <td>[2018-03-08, 03:20:00Z]</td>\n",
       "      <td>320729</td>\n",
       "      <td>51.523338</td>\n",
       "      <td>Edgware Road junction with Framton Street</td>\n",
       "      <td>-0.174828</td>\n",
       "      <td>Slight</td>\n",
       "      <td>[Car, Car]</td>\n",
       "      <td>1</td>\n",
       "      <td>3</td>\n",
       "    </tr>\n",
       "  </tbody>\n",
       "</table>\n",
       "</div>"
      ],
      "text/plain": [
       "               borough                                         casualties  \\\n",
       "0  City of Westminster  [{'$type': 'Tfl.Api.Presentation.Entities.Acci...   \n",
       "1  City of Westminster  [{'$type': 'Tfl.Api.Presentation.Entities.Acci...   \n",
       "2  City of Westminster  [{'$type': 'Tfl.Api.Presentation.Entities.Acci...   \n",
       "3  City of Westminster  [{'$type': 'Tfl.Api.Presentation.Entities.Acci...   \n",
       "4  City of Westminster  [{'$type': 'Tfl.Api.Presentation.Entities.Acci...   \n",
       "\n",
       "                      date      id        lat  \\\n",
       "0  [2018-03-07, 08:25:00Z]  320725  51.539269   \n",
       "1  [2018-03-07, 08:17:00Z]  320726  51.501083   \n",
       "2  [2018-03-06, 09:55:00Z]  320727  51.526162   \n",
       "3  [2018-03-07, 20:15:00Z]  320728  51.509212   \n",
       "4  [2018-03-08, 03:20:00Z]  320729  51.523338   \n",
       "\n",
       "                                            location       lon severity  \\\n",
       "0  Finchley Road 25 metres south of junction with... -0.175777   Slight   \n",
       "1  Parliament Street junction with Great George S... -0.126441   Slight   \n",
       "2  Saint John's Wood Road junction with northwick... -0.177166  Serious   \n",
       "3  Jermyn Street junction with Regent Street St J... -0.134322   Slight   \n",
       "4          Edgware Road junction with Framton Street -0.174828   Slight   \n",
       "\n",
       "                          vehicles  casualties_people_num  month_of_accident  \n",
       "0         [PedalCycle, BusOrCoach]                      1                  3  \n",
       "1  [PedalCycle, LightGoodsVehicle]                      1                  3  \n",
       "2                [PedalCycle, Car]                      1                  3  \n",
       "3       [Motorcycle_50_125cc, Car]                      1                  3  \n",
       "4                       [Car, Car]                      1                  3  "
      ]
     },
     "execution_count": 88,
     "metadata": {},
     "output_type": "execute_result"
    }
   ],
   "source": [
    "df.head()"
   ]
  },
  {
   "cell_type": "code",
   "execution_count": 89,
   "metadata": {},
   "outputs": [
    {
     "data": {
      "text/html": [
       "<div>\n",
       "<style scoped>\n",
       "    .dataframe tbody tr th:only-of-type {\n",
       "        vertical-align: middle;\n",
       "    }\n",
       "\n",
       "    .dataframe tbody tr th {\n",
       "        vertical-align: top;\n",
       "    }\n",
       "\n",
       "    .dataframe thead th {\n",
       "        text-align: right;\n",
       "    }\n",
       "</style>\n",
       "<table border=\"1\" class=\"dataframe\">\n",
       "  <thead>\n",
       "    <tr style=\"text-align: right;\">\n",
       "      <th></th>\n",
       "      <th></th>\n",
       "      <th>casualties</th>\n",
       "    </tr>\n",
       "    <tr>\n",
       "      <th>borough</th>\n",
       "      <th>month_of_accident</th>\n",
       "      <th></th>\n",
       "    </tr>\n",
       "  </thead>\n",
       "  <tbody>\n",
       "    <tr>\n",
       "      <th rowspan=\"5\" valign=\"top\">Barking and Dagenham</th>\n",
       "      <th>1</th>\n",
       "      <td>88</td>\n",
       "    </tr>\n",
       "    <tr>\n",
       "      <th>2</th>\n",
       "      <td>86</td>\n",
       "    </tr>\n",
       "    <tr>\n",
       "      <th>3</th>\n",
       "      <td>84</td>\n",
       "    </tr>\n",
       "    <tr>\n",
       "      <th>4</th>\n",
       "      <td>90</td>\n",
       "    </tr>\n",
       "    <tr>\n",
       "      <th>5</th>\n",
       "      <td>150</td>\n",
       "    </tr>\n",
       "  </tbody>\n",
       "</table>\n",
       "</div>"
      ],
      "text/plain": [
       "                                        casualties\n",
       "borough              month_of_accident            \n",
       "Barking and Dagenham 1                          88\n",
       "                     2                          86\n",
       "                     3                          84\n",
       "                     4                          90\n",
       "                     5                         150"
      ]
     },
     "execution_count": 89,
     "metadata": {},
     "output_type": "execute_result"
    }
   ],
   "source": [
    "accidents_per_month = df.groupby(['borough','month_of_accident']).count()\n",
    "accidents_by_month_area = accidents_per_month[['casualties']]\n",
    "accidents_by_month_area.head(5)"
   ]
  },
  {
   "cell_type": "code",
   "execution_count": 90,
   "metadata": {},
   "outputs": [
    {
     "data": {
      "text/html": [
       "<div>\n",
       "<style scoped>\n",
       "    .dataframe tbody tr th:only-of-type {\n",
       "        vertical-align: middle;\n",
       "    }\n",
       "\n",
       "    .dataframe tbody tr th {\n",
       "        vertical-align: top;\n",
       "    }\n",
       "\n",
       "    .dataframe thead th {\n",
       "        text-align: right;\n",
       "    }\n",
       "</style>\n",
       "<table border=\"1\" class=\"dataframe\">\n",
       "  <thead>\n",
       "    <tr style=\"text-align: right;\">\n",
       "      <th></th>\n",
       "      <th>casualties</th>\n",
       "    </tr>\n",
       "    <tr>\n",
       "      <th>month_of_accident</th>\n",
       "      <th></th>\n",
       "    </tr>\n",
       "  </thead>\n",
       "  <tbody>\n",
       "    <tr>\n",
       "      <th>1</th>\n",
       "      <td>254</td>\n",
       "    </tr>\n",
       "    <tr>\n",
       "      <th>2</th>\n",
       "      <td>218</td>\n",
       "    </tr>\n",
       "    <tr>\n",
       "      <th>3</th>\n",
       "      <td>236</td>\n",
       "    </tr>\n",
       "    <tr>\n",
       "      <th>4</th>\n",
       "      <td>246</td>\n",
       "    </tr>\n",
       "    <tr>\n",
       "      <th>5</th>\n",
       "      <td>304</td>\n",
       "    </tr>\n",
       "    <tr>\n",
       "      <th>6</th>\n",
       "      <td>254</td>\n",
       "    </tr>\n",
       "    <tr>\n",
       "      <th>7</th>\n",
       "      <td>290</td>\n",
       "    </tr>\n",
       "    <tr>\n",
       "      <th>8</th>\n",
       "      <td>224</td>\n",
       "    </tr>\n",
       "    <tr>\n",
       "      <th>9</th>\n",
       "      <td>246</td>\n",
       "    </tr>\n",
       "    <tr>\n",
       "      <th>10</th>\n",
       "      <td>258</td>\n",
       "    </tr>\n",
       "    <tr>\n",
       "      <th>11</th>\n",
       "      <td>242</td>\n",
       "    </tr>\n",
       "    <tr>\n",
       "      <th>12</th>\n",
       "      <td>248</td>\n",
       "    </tr>\n",
       "  </tbody>\n",
       "</table>\n",
       "</div>"
      ],
      "text/plain": [
       "                   casualties\n",
       "month_of_accident            \n",
       "1                         254\n",
       "2                         218\n",
       "3                         236\n",
       "4                         246\n",
       "5                         304\n",
       "6                         254\n",
       "7                         290\n",
       "8                         224\n",
       "9                         246\n",
       "10                        258\n",
       "11                        242\n",
       "12                        248"
      ]
     },
     "execution_count": 90,
     "metadata": {},
     "output_type": "execute_result"
    }
   ],
   "source": [
    "City_of_Westminster = accidents_by_month_area.loc['City of Westminster']\n",
    "City_of_Westminster"
   ]
  },
  {
   "cell_type": "markdown",
   "metadata": {},
   "source": [
    "## Total number of accidents by month"
   ]
  },
  {
   "cell_type": "code",
   "execution_count": 91,
   "metadata": {},
   "outputs": [
    {
     "data": {
      "text/html": [
       "<div>\n",
       "<style scoped>\n",
       "    .dataframe tbody tr th:only-of-type {\n",
       "        vertical-align: middle;\n",
       "    }\n",
       "\n",
       "    .dataframe tbody tr th {\n",
       "        vertical-align: top;\n",
       "    }\n",
       "\n",
       "    .dataframe thead th {\n",
       "        text-align: right;\n",
       "    }\n",
       "</style>\n",
       "<table border=\"1\" class=\"dataframe\">\n",
       "  <thead>\n",
       "    <tr style=\"text-align: right;\">\n",
       "      <th></th>\n",
       "      <th>casualties</th>\n",
       "    </tr>\n",
       "    <tr>\n",
       "      <th>month_of_accident</th>\n",
       "      <th></th>\n",
       "    </tr>\n",
       "  </thead>\n",
       "  <tbody>\n",
       "    <tr>\n",
       "      <th>1</th>\n",
       "      <td>4178</td>\n",
       "    </tr>\n",
       "    <tr>\n",
       "      <th>2</th>\n",
       "      <td>3810</td>\n",
       "    </tr>\n",
       "    <tr>\n",
       "      <th>3</th>\n",
       "      <td>3910</td>\n",
       "    </tr>\n",
       "    <tr>\n",
       "      <th>4</th>\n",
       "      <td>3858</td>\n",
       "    </tr>\n",
       "    <tr>\n",
       "      <th>5</th>\n",
       "      <td>4636</td>\n",
       "    </tr>\n",
       "    <tr>\n",
       "      <th>6</th>\n",
       "      <td>4670</td>\n",
       "    </tr>\n",
       "    <tr>\n",
       "      <th>7</th>\n",
       "      <td>4502</td>\n",
       "    </tr>\n",
       "    <tr>\n",
       "      <th>8</th>\n",
       "      <td>3876</td>\n",
       "    </tr>\n",
       "    <tr>\n",
       "      <th>9</th>\n",
       "      <td>4442</td>\n",
       "    </tr>\n",
       "    <tr>\n",
       "      <th>10</th>\n",
       "      <td>4610</td>\n",
       "    </tr>\n",
       "    <tr>\n",
       "      <th>11</th>\n",
       "      <td>4700</td>\n",
       "    </tr>\n",
       "    <tr>\n",
       "      <th>12</th>\n",
       "      <td>4082</td>\n",
       "    </tr>\n",
       "  </tbody>\n",
       "</table>\n",
       "</div>"
      ],
      "text/plain": [
       "                   casualties\n",
       "month_of_accident            \n",
       "1                        4178\n",
       "2                        3810\n",
       "3                        3910\n",
       "4                        3858\n",
       "5                        4636\n",
       "6                        4670\n",
       "7                        4502\n",
       "8                        3876\n",
       "9                        4442\n",
       "10                       4610\n",
       "11                       4700\n",
       "12                       4082"
      ]
     },
     "execution_count": 91,
     "metadata": {},
     "output_type": "execute_result"
    }
   ],
   "source": [
    "total_accidents_per_month = df.groupby('month_of_accident')['casualties'].count()\\\n",
    ".to_frame()\n",
    "total_accidents_per_month"
   ]
  },
  {
   "cell_type": "code",
   "execution_count": 92,
   "metadata": {},
   "outputs": [
    {
     "data": {
      "image/png": "[encoded data removed]",
      "text/plain": [
       "<Figure size 432x288 with 1 Axes>"
      ]
     },
     "metadata": {
      "needs_background": "light"
     },
     "output_type": "display_data"
    }
   ],
   "source": [
    "ax = plt.subplots()\n",
    "ax = sns.countplot('month_of_accident', data=df)\n",
    "ax.set_title('Total number of accidents per month')\n",
    "plt.show()"
   ]
  },
  {
   "cell_type": "markdown",
   "metadata": {},
   "source": [
    "## Average number of accidents each month"
   ]
  },
  {
   "cell_type": "code",
   "execution_count": 93,
   "metadata": {},
   "outputs": [
    {
     "data": {
      "text/plain": [
       "month_of_accident\n",
       "1     126.606061\n",
       "2     115.454545\n",
       "3     118.484848\n",
       "4     116.909091\n",
       "5     140.484848\n",
       "6     141.515152\n",
       "7     136.424242\n",
       "8     117.454545\n",
       "9     134.606061\n",
       "10    139.696970\n",
       "11    142.424242\n",
       "12    123.696970\n",
       "Name: casualties, dtype: float64"
      ]
     },
     "execution_count": 93,
     "metadata": {},
     "output_type": "execute_result"
    }
   ],
   "source": [
    "avg_num_of_accidents = df.groupby(['month_of_accident','borough']).count()[['casualties']] \\\n",
    ".groupby('month_of_accident').casualties.mean()\n",
    "avg_num_of_accidents"
   ]
  },
  {
   "cell_type": "code",
   "execution_count": 94,
   "metadata": {},
   "outputs": [
    {
     "data": {
      "image/png": "[encoded data removed]",
      "text/plain": [
       "<Figure size 432x288 with 1 Axes>"
      ]
     },
     "metadata": {
      "needs_background": "light"
     },
     "output_type": "display_data"
    }
   ],
   "source": [
    "fig, ax = plt.subplots()\n",
    "ax = avg_num_of_accidents.plot()\n",
    "plt.show()"
   ]
  },
  {
   "cell_type": "markdown",
   "metadata": {},
   "source": [
    "## Total number of accidents and people in each area"
   ]
  },
  {
   "cell_type": "code",
   "execution_count": 95,
   "metadata": {},
   "outputs": [],
   "source": [
    "summarize = df.groupby('borough').agg({'casualties':'count','casualties_people_num':'sum'})"
   ]
  },
  {
   "cell_type": "code",
   "execution_count": 96,
   "metadata": {},
   "outputs": [
    {
     "data": {
      "text/html": [
       "<div>\n",
       "<style scoped>\n",
       "    .dataframe tbody tr th:only-of-type {\n",
       "        vertical-align: middle;\n",
       "    }\n",
       "\n",
       "    .dataframe tbody tr th {\n",
       "        vertical-align: top;\n",
       "    }\n",
       "\n",
       "    .dataframe thead th {\n",
       "        text-align: right;\n",
       "    }\n",
       "</style>\n",
       "<table border=\"1\" class=\"dataframe\">\n",
       "  <thead>\n",
       "    <tr style=\"text-align: right;\">\n",
       "      <th></th>\n",
       "      <th>casualties</th>\n",
       "      <th>casualties_people_num</th>\n",
       "    </tr>\n",
       "    <tr>\n",
       "      <th>borough</th>\n",
       "      <th></th>\n",
       "      <th></th>\n",
       "    </tr>\n",
       "  </thead>\n",
       "  <tbody>\n",
       "    <tr>\n",
       "      <th>Barking and Dagenham</th>\n",
       "      <td>1164</td>\n",
       "      <td>1588</td>\n",
       "    </tr>\n",
       "    <tr>\n",
       "      <th>Barnet</th>\n",
       "      <td>1986</td>\n",
       "      <td>2426</td>\n",
       "    </tr>\n",
       "    <tr>\n",
       "      <th>Bexley</th>\n",
       "      <td>972</td>\n",
       "      <td>1272</td>\n",
       "    </tr>\n",
       "    <tr>\n",
       "      <th>Brent</th>\n",
       "      <td>1862</td>\n",
       "      <td>2210</td>\n",
       "    </tr>\n",
       "    <tr>\n",
       "      <th>Bromley</th>\n",
       "      <td>1474</td>\n",
       "      <td>1788</td>\n",
       "    </tr>\n",
       "  </tbody>\n",
       "</table>\n",
       "</div>"
      ],
      "text/plain": [
       "                      casualties  casualties_people_num\n",
       "borough                                                \n",
       "Barking and Dagenham        1164                   1588\n",
       "Barnet                      1986                   2426\n",
       "Bexley                       972                   1272\n",
       "Brent                       1862                   2210\n",
       "Bromley                     1474                   1788"
      ]
     },
     "execution_count": 96,
     "metadata": {},
     "output_type": "execute_result"
    }
   ],
   "source": [
    "summarize.head()"
   ]
  },
  {
   "cell_type": "markdown",
   "metadata": {},
   "source": [
    "## Average number of accidents each year per area"
   ]
  },
  {
   "cell_type": "code",
   "execution_count": 97,
   "metadata": {},
   "outputs": [
    {
     "data": {
      "text/plain": [
       "borough\n",
       "Barking and Dagenham       97.000000\n",
       "Barnet                    165.500000\n",
       "Bexley                     81.000000\n",
       "Brent                     155.166667\n",
       "Bromley                   122.833333\n",
       "Camden                    151.833333\n",
       "City of London             47.333333\n",
       "City of Westminster       251.666667\n",
       "Croydon                   148.500000\n",
       "Ealing                    157.500000\n",
       "Enfield                   148.666667\n",
       "Greenwich                 119.166667\n",
       "Hackney                   142.500000\n",
       "Hammersmith and Fulham    117.833333\n",
       "Haringey                  142.833333\n",
       "Harrow                     69.000000\n",
       "Havering                   95.666667\n",
       "Hillingdon                120.833333\n",
       "Hounslow                  131.000000\n",
       "Islington                 128.000000\n",
       "Kensington and Chelsea    113.833333\n",
       "Kingston                   55.166667\n",
       "Lambeth                   214.500000\n",
       "Lewisham                  139.333333\n",
       "Merton                     82.833333\n",
       "Newham                    142.666667\n",
       "Redbridge                 126.166667\n",
       "Richmond upon Thames       74.000000\n",
       "Southwark                 191.666667\n",
       "Sutton                     67.833333\n",
       "Tower Hamlets             188.333333\n",
       "Waltham Forest            118.666667\n",
       "Wandsworth                164.000000\n",
       "Name: casualties, dtype: float64"
      ]
     },
     "execution_count": 97,
     "metadata": {},
     "output_type": "execute_result"
    }
   ],
   "source": [
    "avg_accident_year = summarize['casualties'].apply(lambda x: x/12)\n",
    "avg_accident_year"
   ]
  }
 ],
 "metadata": {
  "kernelspec": {
   "display_name": "Python 3",
   "language": "python",
   "name": "python3"
  },
  "language_info": {
   "codemirror_mode": {
    "name": "ipython",
    "version": 3
   },
   "file_extension": ".py",
   "mimetype": "text/x-python",
   "name": "python",
   "nbconvert_exporter": "python",
   "pygments_lexer": "ipython3",
   "version": "3.7.3"
  }
 },
 "nbformat": 4,
 "nbformat_minor": 4
}
